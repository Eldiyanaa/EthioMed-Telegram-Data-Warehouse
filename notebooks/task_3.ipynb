{
 "cells": [
  {
   "cell_type": "markdown",
   "metadata": {},
   "source": [
    "# **Task 3: Object Detection Using YOLO**"
   ]
  },
  {
   "cell_type": "code",
   "execution_count": 1,
   "metadata": {},
   "outputs": [],
   "source": [
    "# Import libraries for file handling and data splitting\n",
    "import os, sys\n",
    "import random\n",
    "import shutil\n",
    "sys.path.append(os.path.abspath(os.path.join('..', 'scripts')))\n",
    "from logger import Logger\n",
    "# Set instance of the Logger class\n",
    "logger = Logger(log_file='../yolo_training.log')\n",
    "sys.path.append('../yolov5')  # Adjust the path based on your directory structure"
   ]
  },
  {
   "cell_type": "code",
   "execution_count": 2,
   "metadata": {},
   "outputs": [
    {
     "name": "stdout",
     "output_type": "stream",
     "text": [
      "Total images available: 3821\n"
     ]
    }
   ],
   "source": [
    "# Define the directory paths\n",
    "photos_dir = '../data/photos'  # Directory containing all your images\n",
    "train_dir = '../data/train/images'  # Directory for training images\n",
    "val_dir = '../data/valid/images'  # Directory for validation images\n",
    "\n",
    "\n",
    "try:\n",
    "    # Create directories for train and validation sets if they don't exist\n",
    "    os.makedirs(train_dir, exist_ok=True)\n",
    "    os.makedirs(val_dir, exist_ok=True)\n",
    "    \n",
    "    # Print the number of images available\n",
    "    print(f\"Total images available: {len(os.listdir(photos_dir))}\")\n",
    "    logger.info(f'{len(os.listdir(photos_dir))} total images available in {photos_dir}')\n",
    "except Exception as e:\n",
    "    logger.info(f'Error: {e}')"
   ]
  },
  {
   "cell_type": "code",
   "execution_count": 3,
   "metadata": {},
   "outputs": [
    {
     "name": "stdout",
     "output_type": "stream",
     "text": [
      "Training images: 3056\n",
      "Validation images: 765\n"
     ]
    }
   ],
   "source": [
    "def split_dataset(source_dir, train_dir, val_dir, split_ratio=0.8):\n",
    "    # List all images in the source directory\n",
    "    images = [f for f in os.listdir(source_dir) if f.endswith('.jpg')]\n",
    "    random.shuffle(images)  # Shuffle the images for random selection\n",
    "\n",
    "    # Calculate the split index\n",
    "    split_index = int(len(images) * split_ratio)\n",
    "    train_images = images[:split_index]\n",
    "    val_images = images[split_index:]\n",
    "\n",
    "    # Copy images to the respective directories\n",
    "    for image in train_images:\n",
    "        shutil.copy(os.path.join(source_dir, image), train_dir)\n",
    "    for image in val_images:\n",
    "        shutil.copy(os.path.join(source_dir, image), val_dir)\n",
    "    \n",
    "    print(f\"Training images: {len(train_images)}\")\n",
    "    print(f\"Validation images: {len(val_images)}\")\n",
    "\n",
    "\n",
    "if __name__=='__main__':\n",
    "    \n",
    "    try:\n",
    "        # Call the function to split the dataset\n",
    "        split_dataset(photos_dir, train_dir, val_dir)\n",
    "        logger.info(f'Splited the dataset into train and validation sets.')\n",
    "    except Exception as e:\n",
    "        logger.info(f'Error: {e}')"
   ]
  },
  {
   "cell_type": "code",
   "execution_count": null,
   "metadata": {},
   "outputs": [],
   "source": [
    "# Clone the YOLOv5 repository (only run this if you don't have YOLOv5 cloned already)\n",
    "\n",
    "# uncomment below line, and run the cell\n",
    "\n",
    "!git clone https://github.com/ultralytics/yolov5.git\n",
    "\n",
    "# Change the working directory to yolov5\n",
    "\n",
    "# uncomment below line, and run the cell\n",
    "%cd yolov5\n",
    "\n",
    "# Install required packages for YOLOv5\n",
    "# uncomment below line, and run the cell\n",
    "\n",
    "%pip install -r requirements.txt\n",
    "\n",
    "#' to automatically track and visualize YOLOv5 🚀 runs in Comet\n",
    "# uncomment below line, and run the cell\n",
    "%pip install comet_ml"
   ]
  },
  {
   "cell_type": "code",
   "execution_count": null,
   "metadata": {},
   "outputs": [],
   "source": [
    "%pip install roboflow\n",
    "from roboflow import Roboflow\n",
    "rf = Roboflow(api_key=\"eDraTy7oHELDj6QbeQ2L\")\n",
    "project = rf.workspace(\"medical-products\").project(\"medical-products\")\n",
    "version = project.version(1)\n",
    "dataset = version.download(\"yolov5\")"
   ]
  },
  {
   "cell_type": "code",
   "execution_count": null,
   "metadata": {},
   "outputs": [],
   "source": [
    "# Train the model using the pre-trained YOLOv5 model checkpoint (yolov5s.pt)\n",
    "!python train.py --img 640 --batch 16 --epochs 50 --data ethio_medical_dataset.yml --weights yolov5s.pt\n",
    "# Run this in your notebook cell\n",
    "!python train.py --img 640 --batch 16 --epochs 50 --data ethio_medical_dataset.yml --weights yolov5s.pt --name fine_tuned_model\n",
    "!python train.py --img 320 --batch 8 --epochs 50 --data ethio_medical_dataset.yml --weights yolov5n.pt --name fine_tuned_model"
   ]
  }
 ],
 "metadata": {
  "kernelspec": {
   "display_name": ".env",
   "language": "python",
   "name": "python3"
  },
  "language_info": {
   "codemirror_mode": {
    "name": "ipython",
    "version": 3
   },
   "file_extension": ".py",
   "mimetype": "text/x-python",
   "name": "python",
   "nbconvert_exporter": "python",
   "pygments_lexer": "ipython3",
   "version": "3.12.3"
  }
 },
 "nbformat": 4,
 "nbformat_minor": 2
}
